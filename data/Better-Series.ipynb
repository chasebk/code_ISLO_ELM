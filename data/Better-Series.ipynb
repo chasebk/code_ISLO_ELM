{
 "cells": [
  {
   "cell_type": "code",
   "execution_count": 10,
   "metadata": {},
   "outputs": [],
   "source": [
    "from pandas import read_csv, DataFrame\n",
    "import numpy as np\n"
   ]
  },
  {
   "cell_type": "code",
   "execution_count": 11,
   "metadata": {},
   "outputs": [],
   "source": [
    "def fft_denoiser(x, n_components, to_real=True):\n",
    "    \"\"\"Fast fourier transform denoiser.\n",
    "    \n",
    "    Denoises data using the fast fourier transform.\n",
    "    \n",
    "    Parameters\n",
    "    ----------\n",
    "    x : numpy.array\n",
    "        The data to denoise.\n",
    "    n_components : int\n",
    "        The value above which the coefficients will be kept.\n",
    "    to_real : bool, optional, default: True\n",
    "        Whether to remove the complex part (True) or not (False)\n",
    "        \n",
    "    Returns\n",
    "    -------\n",
    "    clean_data : numpy.array\n",
    "        The denoised data.\n",
    "        \n",
    "    References\n",
    "    ----------\n",
    "    .. [1] Steve Brunton - Denoising Data with FFT[Python]\n",
    "       https://www.youtube.com/watch?v=s2K1JfNR7Sc&ab_channel=SteveBrunton\n",
    "    \n",
    "    \"\"\"\n",
    "    n = len(x)\n",
    "    \n",
    "    # compute the fft\n",
    "    fft = np.fft.fft(x, n)\n",
    "    \n",
    "    # compute power spectrum density\n",
    "    # squared magnitud of each fft coefficient\n",
    "    PSD = fft * np.conj(fft) / n\n",
    "    \n",
    "    # keep high frequencies\n",
    "    _mask = PSD > n_components\n",
    "    fft = _mask * fft\n",
    "    \n",
    "    # inverse fourier transform\n",
    "    clean_data = np.fft.ifft(fft)\n",
    "    \n",
    "    if to_real:\n",
    "        clean_data = clean_data.real\n",
    "    \n",
    "    return clean_data\n"
   ]
  },
  {
   "cell_type": "code",
   "execution_count": 26,
   "metadata": {},
   "outputs": [
    {
     "name": "stdout",
     "output_type": "stream",
     "text": [
      "<class 'pandas.core.frame.DataFrame'>\n",
      "RangeIndex: 8351 entries, 0 to 8350\n",
      "Data columns (total 1 columns):\n",
      " #   Column        Non-Null Count  Dtype  \n",
      "---  ------        --------------  -----  \n",
      " 0   meanCPUUsage  8351 non-null   float64\n",
      "dtypes: float64(1)\n",
      "memory usage: 65.4 KB\n"
     ]
    }
   ],
   "source": [
    "filename = \"./formatted/google_5m.csv\"\n",
    "df = read_csv(filename, sep=',', usecols=[1])\n",
    "df.info()\n",
    "\n",
    "clean_data1 = fft_denoiser(x=df.values, n_components=0.001)\n",
    "clean_data2 = fft_denoiser(x=df.values, n_components=0.005)\n",
    "clean_data3 = fft_denoiser(x=df.values, n_components=0.01)\n",
    "clean_data4 = fft_denoiser(x=df.values, n_components=0.05)\n",
    "clean_data5 = fft_denoiser(x=df.values, n_components=0.1)"
   ]
  },
  {
   "cell_type": "code",
   "execution_count": 27,
   "metadata": {},
   "outputs": [
    {
     "data": {
      "text/plain": [
       "<matplotlib.axes._subplots.AxesSubplot at 0x1f132e07248>"
      ]
     },
     "execution_count": 27,
     "metadata": {},
     "output_type": "execute_result"
    },
    {
     "data": {
      "image/png": "[encoded data removed]",
      "text/plain": [
       "<Figure size 432x288 with 1 Axes>"
      ]
     },
     "metadata": {
      "needs_background": "light"
     },
     "output_type": "display_data"
    }
   ],
   "source": [
    "df.plot()"
   ]
  },
  {
   "cell_type": "code",
   "execution_count": 25,
   "metadata": {},
   "outputs": [
    {
     "data": {
      "text/plain": [
       "<matplotlib.axes._subplots.AxesSubplot at 0x1f130a0cc48>"
      ]
     },
     "execution_count": 25,
     "metadata": {},
     "output_type": "execute_result"
    },
    {
     "data": {
      "image/png": "[encoded data removed]",
      "text/plain": [
       "<Figure size 432x288 with 1 Axes>"
      ]
     },
     "metadata": {
      "needs_background": "light"
     },
     "output_type": "display_data"
    }
   ],
   "source": [
    "df_clean = DataFrame()\n",
    "df_clean['cpu1'] = clean_data1.flatten()\n",
    "df_clean['cpu2'] = clean_data2.flatten()\n",
    "df_clean['cpu3'] = clean_data3.flatten()\n",
    "df_clean['cpu4'] = clean_data4.flatten()\n",
    "df_clean['cpu5'] = clean_data5.flatten()\n",
    "df_clean.plot()"
   ]
  },
  {
   "cell_type": "code",
   "execution_count": null,
   "metadata": {},
   "outputs": [],
   "source": []
  }
 ],
 "metadata": {
  "kernelspec": {
   "display_name": "Python 3",
   "language": "python",
   "name": "python3"
  },
  "language_info": {
   "codemirror_mode": {
    "name": "ipython",
    "version": 3
   },
   "file_extension": ".py",
   "mimetype": "text/x-python",
   "name": "python",
   "nbconvert_exporter": "python",
   "pygments_lexer": "ipython3",
   "version": "3.7.6"
  }
 },
 "nbformat": 4,
 "nbformat_minor": 1
}